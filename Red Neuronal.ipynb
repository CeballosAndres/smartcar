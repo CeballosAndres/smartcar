{
 "cells": [
  {
   "cell_type": "markdown",
   "metadata": {},
   "source": [
    "# Red Neuronal en Python para conducción de vehiculo"
   ]
  },
  {
   "cell_type": "markdown",
   "metadata": {},
   "source": [
    "Se crea una red neuronal simple, con 3 capas, neuronas con valores de entrada -1 a 1 y de salida 0 a 1 indicando encender o no los motores de un coche controlado por un ESP8266 y Arduino."
   ]
  },
  {
   "cell_type": "code",
   "execution_count": 1,
   "metadata": {
    "ExecuteTime": {
     "end_time": "2018-07-28T00:01:48.731495Z",
     "start_time": "2018-07-28T00:01:48.007632Z"
    }
   },
   "outputs": [],
   "source": [
    "import numpy as np\n",
    "\n",
    "# Creamos la clase\n",
    "\n",
    "\n",
    "class NeuralNetwork:\n",
    "\n",
    "    def __init__(self, layers, activation='tanh'):\n",
    "        if activation == 'sigmoid':\n",
    "            self.activation = sigmoid\n",
    "            self.activation_prime = sigmoid_derivada\n",
    "        elif activation == 'tanh':\n",
    "            self.activation = tanh\n",
    "            self.activation_prime = tanh_derivada\n",
    "\n",
    "        # inicializo los pesos\n",
    "        self.weights = []\n",
    "        self.deltas = []\n",
    "        # capas = [2,3,4]\n",
    "        # random de pesos varia entre (-1,1)\n",
    "        # asignación de valores aleatorios a capa de entrada y capa oculta\n",
    "        for i in range(1, len(layers) - 1):\n",
    "            r = 2*np.random.random((layers[i-1] + 1, layers[i] + 1)) - 1\n",
    "            self.weights.append(r)\n",
    "        # asigno aleatorios a capa de salida\n",
    "        r = 2*np.random.random((layers[i] + 1, layers[i+1])) - 1\n",
    "        self.weights.append(r)\n",
    "\n",
    "    def fit(self, X, y, learning_rate=0.2, epochs=100000):\n",
    "        # Agrego columna de unos a las entradas X\n",
    "        # Con esto agregamos la unidad de Bias a la capa de entrada\n",
    "        ones = np.atleast_2d(np.ones(X.shape[0]))\n",
    "        X = np.concatenate((ones.T, X), axis=1)\n",
    "\n",
    "        for k in range(epochs):\n",
    "            i = np.random.randint(X.shape[0])\n",
    "            a = [X[i]]\n",
    "\n",
    "            for l in range(len(self.weights)):\n",
    "                dot_value = np.dot(a[l], self.weights[l])\n",
    "                activation = self.activation(dot_value)\n",
    "                a.append(activation)\n",
    "            # Calculo la diferencia en la capa de salida y el valor obtenido\n",
    "            error = y[i] - a[-1]\n",
    "            deltas = [error * self.activation_prime(a[-1])]\n",
    "\n",
    "            # Empezamos en el segundo layer hasta el ultimo\n",
    "            # (Una capa anterior a la de salida)\n",
    "            for l in range(len(a) - 2, 0, -1):\n",
    "                deltas.append(deltas[-1].dot(self.weights[l].T)\n",
    "                              * self.activation_prime(a[l]))\n",
    "            self.deltas.append(deltas)\n",
    "\n",
    "            # invertir\n",
    "            # [level3(output)->level2(hidden)]  => [level2(hidden)->level3(output)]\n",
    "            deltas.reverse()\n",
    "\n",
    "            # backpropagation\n",
    "            # 1. Multiplcar los delta de salida con las activaciones de entrada\n",
    "            #    para obtener el gradiente del peso.\n",
    "            # 2. actualizo el peso restandole un porcentaje del gradiente\n",
    "            for i in range(len(self.weights)):\n",
    "                layer = np.atleast_2d(a[i])\n",
    "                delta = np.atleast_2d(deltas[i])\n",
    "                self.weights[i] += learning_rate * layer.T.dot(delta)\n",
    "\n",
    "            if k % 10000 == 0:\n",
    "                print('epochs:', k)\n",
    "\n",
    "    def predict(self, x):\n",
    "        ones = np.atleast_2d(np.ones(x.shape[0]))\n",
    "        a = np.concatenate((np.ones(1).T, np.array(x)), axis=0)\n",
    "        for l in range(0, len(self.weights)):\n",
    "            a = self.activation(np.dot(a, self.weights[l]))\n",
    "        return a\n",
    "\n",
    "    def print_weights(self):\n",
    "        print(\"LISTADO PESOS DE CONEXIONES\")\n",
    "        for i in range(len(self.weights)):\n",
    "            print(self.weights[i])\n",
    "\n",
    "    def get_weights(self):\n",
    "        return self.weights\n",
    "\n",
    "    def get_deltas(self):\n",
    "        return self.deltas\n",
    "\n",
    "# Al crear la red, podremos elegir entre usar la funcion sigmoid o tanh\n",
    "\n",
    "\n",
    "def sigmoid(x):\n",
    "    return 1.0/(1.0 + np.exp(-x))\n",
    "\n",
    "\n",
    "def sigmoid_derivada(x):\n",
    "    return sigmoid(x)*(1.0-sigmoid(x))\n",
    "\n",
    "\n",
    "def tanh(x):\n",
    "    return np.tanh(x)\n",
    "\n",
    "\n",
    "def tanh_derivada(x):\n",
    "    return 1.0 - x**2\n"
   ]
  },
  {
   "cell_type": "markdown",
   "metadata": {},
   "source": [
    "## Comportamiento del Coche Robot"
   ]
  },
  {
   "cell_type": "markdown",
   "metadata": {},
   "source": [
    "Se instancia la red neuronal que nos dará los pesos para las conexiones que utilizaremos en el vehículo."
   ]
  },
  {
   "cell_type": "code",
   "execution_count": 2,
   "metadata": {
    "ExecuteTime": {
     "end_time": "2018-07-28T08:17:49.655846Z",
     "start_time": "2018-07-28T08:17:48.030401Z"
    }
   },
   "outputs": [
    {
     "name": "stdout",
     "output_type": "stream",
     "text": [
      "epochs: 0\n",
      "epochs: 10000\n",
      "epochs: 20000\n",
      "epochs: 30000\n",
      "epochs: 40000\n",
      "X: [-1 -1] esperado: [1 1] obtenido: 1 1\n",
      "X: [-1  0] esperado: [1 1] obtenido: 1 1\n",
      "X: [-1  1] esperado: [1 1] obtenido: 1 1\n",
      "X: [ 0 -1] esperado: [1 0] obtenido: 1 0\n",
      "X: [0 0] esperado: [1 0] obtenido: 1 0\n",
      "X: [0 1] esperado: [0 1] obtenido: 0 1\n",
      "X: [ 1 -1] esperado: [0 0] obtenido: 0 0\n",
      "X: [1 0] esperado: [0 0] obtenido: 0 0\n",
      "X: [1 1] esperado: [0 0] obtenido: 0 0\n"
     ]
    }
   ],
   "source": [
    "# Red Coche para Evitar obstáculos\n",
    "nn = NeuralNetwork([2, 3, 2], activation='tanh')\n",
    "X = np.array([[-1, -1],  # sin obstaculos\n",
    "              [-1, 0],   # sin obstaculos\n",
    "              [-1, 1],   # sin obstaculos\n",
    "              [0, -1],   # obstaculo derecha\n",
    "              [0,  0],   # obstaculo centro\n",
    "              [0,  1],   # obstaculo izquierda\n",
    "              [1, -1],   # demasiado cerca izquierda\n",
    "              [1,  0],   # demasiado cerca centro\n",
    "              [1,  1]    # demasiado cerca derecha\n",
    "              ])\n",
    "# las salidas 'y' se corresponden con encender (o no) los motores\n",
    "y = np.array([[1, 1],  # avanzar\n",
    "              [1, 1],  # avanzar\n",
    "              [1, 1],  # avanzar\n",
    "              [1, 0],  # giro derecha\n",
    "              [1, 0],  # giro derecha\n",
    "              [0, 1],  # giro izquierda\n",
    "              [0, 0],  # retroceder\n",
    "              [0, 0],  # retroceder\n",
    "              [0, 0]  # retroceder\n",
    "              ])\n",
    "nn.fit(X, y, learning_rate=0.03, epochs=40001)\n",
    "\n",
    "\n",
    "def valNN(x):\n",
    "    return (int)(abs(round(x)))\n",
    "\n",
    "\n",
    "index = 0\n",
    "for e in X:\n",
    "    prediccion = nn.predict(e)\n",
    "    print(\"X:\", e, \"esperado:\", y[index], \"obtenido:\", valNN(\n",
    "        prediccion[0]), valNN(prediccion[1]))\n",
    "    index = index+1\n"
   ]
  },
  {
   "cell_type": "markdown",
   "metadata": {},
   "source": [
    "# Graficamos la función coste "
   ]
  },
  {
   "cell_type": "markdown",
   "metadata": {},
   "source": [
    "Vemos como el gradiente desciende y disminuye el error a medida que pasan las iteraciones de aprendizaje"
   ]
  },
  {
   "cell_type": "code",
   "execution_count": 3,
   "metadata": {
    "ExecuteTime": {
     "end_time": "2018-07-28T08:17:55.715347Z",
     "start_time": "2018-07-28T08:17:55.397792Z"
    }
   },
   "outputs": [
    {
     "data": {
      "image/png": "[encoded data removed]",
      "text/plain": [
       "<Figure size 432x288 with 1 Axes>"
      ]
     },
     "metadata": {
      "needs_background": "light"
     },
     "output_type": "display_data"
    }
   ],
   "source": [
    "import matplotlib.pyplot as plt\n",
    "\n",
    "deltas = nn.get_deltas()\n",
    "valores = []\n",
    "index = 0\n",
    "for arreglo in deltas:\n",
    "    valores.append(arreglo[1][0] + arreglo[1][1])\n",
    "    index = index+1\n",
    "\n",
    "plt.plot(range(len(valores)), valores, color='b')\n",
    "plt.ylim([0, 0.4])\n",
    "plt.ylabel('Cost')\n",
    "plt.xlabel('Epochs')\n",
    "plt.tight_layout()\n",
    "plt.show()\n"
   ]
  },
  {
   "cell_type": "markdown",
   "metadata": {},
   "source": [
    "# Generamos el código para Arduino"
   ]
  },
  {
   "cell_type": "markdown",
   "metadata": {},
   "source": [
    "Se transforman las salidas para poder ser pegadas en el código para Arduino"
   ]
  },
  {
   "cell_type": "code",
   "execution_count": 4,
   "metadata": {
    "ExecuteTime": {
     "end_time": "2018-07-28T08:18:20.322749Z",
     "start_time": "2018-07-28T08:18:20.317377Z"
    }
   },
   "outputs": [],
   "source": [
    "def to_str(name, W):\n",
    "    s = str(W.tolist()).replace('[', '{').replace(']', '}')\n",
    "    return 'const float '+name+'['+str(W.shape[0])+']['+str(W.shape[1])+'] = ' + s + ';'\n"
   ]
  },
  {
   "cell_type": "code",
   "execution_count": 5,
   "metadata": {
    "ExecuteTime": {
     "end_time": "2018-07-28T08:18:23.469458Z",
     "start_time": "2018-07-28T08:18:23.461463Z"
    }
   },
   "outputs": [
    {
     "name": "stdout",
     "output_type": "stream",
     "text": [
      "// Reemplazar estas lineas en tu codigo arduino:\n",
      "// const float HIDDEN_WEIGHTS...\n",
      "// const float OUTPUT_WEIGHTS...\n",
      "// Con lo pesos entrenados.\n",
      "\n",
      "\n",
      "const float HIDDEN_WEIGHTS[3][4] = {{0.7993371118882053, -1.4047014502226984, 0.9414582048050834, 0.07642009631120551}, {-0.13297965743408063, -3.341301702562721, 0.6131066138656246, -2.3255056135814103}, {0.23604578914209137, 1.6221600044678037, -0.2315280391669793, -0.7173392995794886}};\n",
      "const float OUTPUT_WEIGHTS[4][2] = {{0.889885617059632, 0.44366950248439924}, {-0.5935876267502912, 2.0265443012303415}, {1.1108713149135987, 2.0667292793021828}, {2.1970641405729454, 0.10949879437586214}};\n"
     ]
    }
   ],
   "source": [
    "# Obtenermos los pesos entrenados para poder usarlos en el codigo de arduino\n",
    "pesos = nn.get_weights()\n",
    "\n",
    "print('// Reemplazar estas lineas en tu codigo arduino:')\n",
    "print('// const float HIDDEN_WEIGHTS...')\n",
    "print('// const float OUTPUT_WEIGHTS...')\n",
    "print('// Con lo pesos entrenados.')\n",
    "print('\\n')\n",
    "print(to_str('HIDDEN_WEIGHTS', pesos[0]))\n",
    "print(to_str('OUTPUT_WEIGHTS', pesos[1]))\n"
   ]
  },
  {
   "cell_type": "markdown",
   "metadata": {},
   "source": [
    "## Referencias"
   ]
  },
  {
   "cell_type": "markdown",
   "metadata": {
    "ExecuteTime": {
     "end_time": "2018-07-25T10:25:56.999747Z",
     "start_time": "2018-07-25T10:25:56.975198Z"
    }
   },
   "source": [
    "Juan Ignacio Bagnato www.aprendemachinelearning.com"
   ]
  }
 ],
 "metadata": {
  "kernelspec": {
   "display_name": "Python 3 (ipykernel)",
   "language": "python",
   "name": "python3"
  },
  "language_info": {
   "codemirror_mode": {
    "name": "ipython",
    "version": 3
   },
   "file_extension": ".py",
   "mimetype": "text/x-python",
   "name": "python",
   "nbconvert_exporter": "python",
   "pygments_lexer": "ipython3",
   "version": "3.9.7"
  }
 },
 "nbformat": 4,
 "nbformat_minor": 4
}
